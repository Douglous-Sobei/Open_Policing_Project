{
 "cells": [
  {
   "cell_type": "markdown",
   "id": "1a10e6c5",
   "metadata": {
    "toc": true
   },
   "source": [
    "<h1>Table of Contents<span class=\"tocSkip\"></span></h1>\n",
    "<div class=\"toc\"><ul class=\"toc-item\"><li><span><a href=\"#Preparing-data-for-analysis\" data-toc-modified-id=\"Preparing-data-for-analysis-1\"><span class=\"toc-item-num\">1&nbsp;&nbsp;</span>Preparing data for analysis</a></span><ul class=\"toc-item\"><li><span><a href=\"#Examining-the-dataset\" data-toc-modified-id=\"Examining-the-dataset-1.1\"><span class=\"toc-item-num\">1.1&nbsp;&nbsp;</span>Examining the dataset</a></span></li><li><span><a href=\"#Data-Wrangling\" data-toc-modified-id=\"Data-Wrangling-1.2\"><span class=\"toc-item-num\">1.2&nbsp;&nbsp;</span>Data Wrangling</a></span><ul class=\"toc-item\"><li><span><a href=\"#Dropping-column\" data-toc-modified-id=\"Dropping-column-1.2.1\"><span class=\"toc-item-num\">1.2.1&nbsp;&nbsp;</span>Dropping column</a></span></li><li><span><a href=\"#Dropping-rows\" data-toc-modified-id=\"Dropping-rows-1.2.2\"><span class=\"toc-item-num\">1.2.2&nbsp;&nbsp;</span>Dropping rows</a></span></li><li><span><a href=\"#Fixing-a-data-type\" data-toc-modified-id=\"Fixing-a-data-type-1.2.3\"><span class=\"toc-item-num\">1.2.3&nbsp;&nbsp;</span>Fixing a data type</a></span></li><li><span><a href=\"#Combining-object-columns\" data-toc-modified-id=\"Combining-object-columns-1.2.4\"><span class=\"toc-item-num\">1.2.4&nbsp;&nbsp;</span>Combining object columns</a></span></li><li><span><a href=\"#Setting-the-index\" data-toc-modified-id=\"Setting-the-index-1.2.5\"><span class=\"toc-item-num\">1.2.5&nbsp;&nbsp;</span>Setting the index</a></span></li></ul></li></ul></li><li><span><a href=\"#Exploring-the-relationship-between-gender-and-policing\" data-toc-modified-id=\"Exploring-the-relationship-between-gender-and-policing-2\"><span class=\"toc-item-num\">2&nbsp;&nbsp;</span>Exploring the relationship between gender and policing</a></span><ul class=\"toc-item\"><li><span><a href=\"#Does-gender-affect-who-gets-a-ticket-for-speeding?\" data-toc-modified-id=\"Does-gender-affect-who-gets-a-ticket-for-speeding?-2.1\"><span class=\"toc-item-num\">2.1&nbsp;&nbsp;</span>Does gender affect who gets a ticket for speeding?</a></span><ul class=\"toc-item\"><li><span><a href=\"#Examining-traffic-violations\" data-toc-modified-id=\"Examining-traffic-violations-2.1.1\"><span class=\"toc-item-num\">2.1.1&nbsp;&nbsp;</span>Examining traffic violations</a></span></li><li><span><a href=\"#Comparing-violations-by-gender\" data-toc-modified-id=\"Comparing-violations-by-gender-2.1.2\"><span class=\"toc-item-num\">2.1.2&nbsp;&nbsp;</span>Comparing violations by gender</a></span></li></ul></li><li><span><a href=\"#Does-gender-affect-who-gets-a-ticket-for-overspeeding\" data-toc-modified-id=\"Does-gender-affect-who-gets-a-ticket-for-overspeeding-2.2\"><span class=\"toc-item-num\">2.2&nbsp;&nbsp;</span>Does gender affect who gets a ticket for overspeeding</a></span><ul class=\"toc-item\"><li><span><a href=\"#Comparing-speeding-outcomes-by-gender\" data-toc-modified-id=\"Comparing-speeding-outcomes-by-gender-2.2.1\"><span class=\"toc-item-num\">2.2.1&nbsp;&nbsp;</span>Comparing speeding outcomes by gender</a></span></li></ul></li><li><span><a href=\"#Does-gender-affect-whose-vehicle-is-searched?\" data-toc-modified-id=\"Does-gender-affect-whose-vehicle-is-searched?-2.3\"><span class=\"toc-item-num\">2.3&nbsp;&nbsp;</span>Does gender affect whose vehicle is searched?</a></span><ul class=\"toc-item\"><li><span><a href=\"#Calculating-the-search-rate\" data-toc-modified-id=\"Calculating-the-search-rate-2.3.1\"><span class=\"toc-item-num\">2.3.1&nbsp;&nbsp;</span>Calculating the search rate</a></span></li><li><span><a href=\"#Comparing-search-rates-by-gender\" data-toc-modified-id=\"Comparing-search-rates-by-gender-2.3.2\"><span class=\"toc-item-num\">2.3.2&nbsp;&nbsp;</span>Comparing search rates by gender</a></span></li><li><span><a href=\"#Adding-a-second-factor-to-the-analysis\" data-toc-modified-id=\"Adding-a-second-factor-to-the-analysis-2.3.3\"><span class=\"toc-item-num\">2.3.3&nbsp;&nbsp;</span>Adding a second factor to the analysis</a></span></li></ul></li><li><span><a href=\"#Does-gender-affect-who-is-frisked-during-a-search\" data-toc-modified-id=\"Does-gender-affect-who-is-frisked-during-a-search-2.4\"><span class=\"toc-item-num\">2.4&nbsp;&nbsp;</span>Does gender affect who is frisked during a search</a></span><ul class=\"toc-item\"><li><span><a href=\"#Counting-protective-frisks\" data-toc-modified-id=\"Counting-protective-frisks-2.4.1\"><span class=\"toc-item-num\">2.4.1&nbsp;&nbsp;</span>Counting protective frisks</a></span></li><li><span><a href=\"#Comparing-frisk-rates-by-gender\" data-toc-modified-id=\"Comparing-frisk-rates-by-gender-2.4.2\"><span class=\"toc-item-num\">2.4.2&nbsp;&nbsp;</span>Comparing frisk rates by gender</a></span></li></ul></li></ul></li><li><span><a href=\"#Visual-exploratory-data-analysis\" data-toc-modified-id=\"Visual-exploratory-data-analysis-3\"><span class=\"toc-item-num\">3&nbsp;&nbsp;</span>Visual exploratory data analysis</a></span><ul class=\"toc-item\"><li><span><a href=\"#Does-time-of-day-affect-arrest-rate?\" data-toc-modified-id=\"Does-time-of-day-affect-arrest-rate?-3.1\"><span class=\"toc-item-num\">3.1&nbsp;&nbsp;</span>Does time of day affect arrest rate?</a></span><ul class=\"toc-item\"><li><span><a href=\"#Calculating-the-hourly-arrest-rate\" data-toc-modified-id=\"Calculating-the-hourly-arrest-rate-3.1.1\"><span class=\"toc-item-num\">3.1.1&nbsp;&nbsp;</span>Calculating the hourly arrest rate</a></span></li><li><span><a href=\"#Plotting-the-hourly-arrest-rate\" data-toc-modified-id=\"Plotting-the-hourly-arrest-rate-3.1.2\"><span class=\"toc-item-num\">3.1.2&nbsp;&nbsp;</span>Plotting the hourly arrest rate</a></span></li></ul></li><li><span><a href=\"#Are-drug-related-stops-on-the-rise?\" data-toc-modified-id=\"Are-drug-related-stops-on-the-rise?-3.2\"><span class=\"toc-item-num\">3.2&nbsp;&nbsp;</span>Are drug-related stops on the rise?</a></span><ul class=\"toc-item\"><li><span><a href=\"#Plotting-drug-related-stops\" data-toc-modified-id=\"Plotting-drug-related-stops-3.2.1\"><span class=\"toc-item-num\">3.2.1&nbsp;&nbsp;</span>Plotting drug-related stops</a></span></li><li><span><a href=\"#Comparing-drug-and-search-rates\" data-toc-modified-id=\"Comparing-drug-and-search-rates-3.2.2\"><span class=\"toc-item-num\">3.2.2&nbsp;&nbsp;</span>Comparing drug and search rates</a></span></li></ul></li><li><span><a href=\"#How-long-might-you-be-stopped-for-a-violation?\" data-toc-modified-id=\"How-long-might-you-be-stopped-for-a-violation?-3.3\"><span class=\"toc-item-num\">3.3&nbsp;&nbsp;</span>How long might you be stopped for a violation?</a></span><ul class=\"toc-item\"><li><span><a href=\"#Converting-stop-durations-to-numbers\" data-toc-modified-id=\"Converting-stop-durations-to-numbers-3.3.1\"><span class=\"toc-item-num\">3.3.1&nbsp;&nbsp;</span>Converting stop durations to numbers</a></span></li><li><span><a href=\"#Plotting-stop-length\" data-toc-modified-id=\"Plotting-stop-length-3.3.2\"><span class=\"toc-item-num\">3.3.2&nbsp;&nbsp;</span>Plotting stop length</a></span></li></ul></li></ul></li><li><span><a href=\"#Analyzing-the-effect-of-weather-on-policing\" data-toc-modified-id=\"Analyzing-the-effect-of-weather-on-policing-4\"><span class=\"toc-item-num\">4&nbsp;&nbsp;</span>Analyzing the effect of weather on policing</a></span></li></ul></div>"
   ]
  },
  {
   "cell_type": "markdown",
   "id": "4c4283eb",
   "metadata": {},
   "source": [
    "**Stanford Open Policing Project.**"
   ]
  },
  {
   "cell_type": "code",
   "execution_count": 1,
   "id": "a3fb49df",
   "metadata": {},
   "outputs": [],
   "source": [
    "# Load the necessary libraries\n",
    "import pandas as pd\n",
    "import json\n",
    "import numpy as np\n",
    "import matplotlib.pyplot as plt\n",
    "import re\n",
    "import seaborn as sns"
   ]
  },
  {
   "cell_type": "markdown",
   "id": "576f1b2d",
   "metadata": {},
   "source": [
    "# Preparing data for analysis\n",
    "\n",
    "Before beginning your analysis, it is critical that you first examine and clean the dataset, to make working with it a more efficient process. In this chapter, you will practice fixing data types, handling missing values, and dropping columns and rows while learning about the Stanford Open Policing Project dataset."
   ]
  },
  {
   "cell_type": "markdown",
   "id": "4d61eb99",
   "metadata": {},
   "source": [
    "\n",
    "## Examining the dataset"
   ]
  },
  {
   "cell_type": "markdown",
   "id": "f930d1d7",
   "metadata": {},
   "source": [
    "Before beginning my analysis, it's important that I familiarize myself with the dataset. At this point, I'll read the dataset into pandas, examine the first few rows, and then count the number of missing values."
   ]
  },
  {
   "cell_type": "code",
   "execution_count": 2,
   "id": "4578d2d8",
   "metadata": {},
   "outputs": [],
   "source": [
    "# read the data\n",
    "df = pd.read_csv('police.csv')"
   ]
  },
  {
   "cell_type": "code",
   "execution_count": 3,
   "id": "502695fd",
   "metadata": {},
   "outputs": [
    {
     "data": {
      "text/html": [
       "<div>\n",
       "<style scoped>\n",
       "    .dataframe tbody tr th:only-of-type {\n",
       "        vertical-align: middle;\n",
       "    }\n",
       "\n",
       "    .dataframe tbody tr th {\n",
       "        vertical-align: top;\n",
       "    }\n",
       "\n",
       "    .dataframe thead th {\n",
       "        text-align: right;\n",
       "    }\n",
       "</style>\n",
       "<table border=\"1\" class=\"dataframe\">\n",
       "  <thead>\n",
       "    <tr style=\"text-align: right;\">\n",
       "      <th></th>\n",
       "      <th>stop_date</th>\n",
       "      <th>stop_time</th>\n",
       "      <th>county_name</th>\n",
       "      <th>driver_gender</th>\n",
       "      <th>driver_age_raw</th>\n",
       "      <th>driver_age</th>\n",
       "      <th>driver_race</th>\n",
       "      <th>violation_raw</th>\n",
       "      <th>violation</th>\n",
       "      <th>search_conducted</th>\n",
       "      <th>search_type</th>\n",
       "      <th>stop_outcome</th>\n",
       "      <th>is_arrested</th>\n",
       "      <th>stop_duration</th>\n",
       "      <th>drugs_related_stop</th>\n",
       "    </tr>\n",
       "  </thead>\n",
       "  <tbody>\n",
       "    <tr>\n",
       "      <th>0</th>\n",
       "      <td>2005-01-02</td>\n",
       "      <td>01:55</td>\n",
       "      <td>NaN</td>\n",
       "      <td>M</td>\n",
       "      <td>1985.0</td>\n",
       "      <td>20.0</td>\n",
       "      <td>White</td>\n",
       "      <td>Speeding</td>\n",
       "      <td>Speeding</td>\n",
       "      <td>False</td>\n",
       "      <td>NaN</td>\n",
       "      <td>Citation</td>\n",
       "      <td>False</td>\n",
       "      <td>0-15 Min</td>\n",
       "      <td>False</td>\n",
       "    </tr>\n",
       "    <tr>\n",
       "      <th>1</th>\n",
       "      <td>2005-01-18</td>\n",
       "      <td>08:15</td>\n",
       "      <td>NaN</td>\n",
       "      <td>M</td>\n",
       "      <td>1965.0</td>\n",
       "      <td>40.0</td>\n",
       "      <td>White</td>\n",
       "      <td>Speeding</td>\n",
       "      <td>Speeding</td>\n",
       "      <td>False</td>\n",
       "      <td>NaN</td>\n",
       "      <td>Citation</td>\n",
       "      <td>False</td>\n",
       "      <td>0-15 Min</td>\n",
       "      <td>False</td>\n",
       "    </tr>\n",
       "    <tr>\n",
       "      <th>2</th>\n",
       "      <td>2005-01-23</td>\n",
       "      <td>23:15</td>\n",
       "      <td>NaN</td>\n",
       "      <td>M</td>\n",
       "      <td>1972.0</td>\n",
       "      <td>33.0</td>\n",
       "      <td>White</td>\n",
       "      <td>Speeding</td>\n",
       "      <td>Speeding</td>\n",
       "      <td>False</td>\n",
       "      <td>NaN</td>\n",
       "      <td>Citation</td>\n",
       "      <td>False</td>\n",
       "      <td>0-15 Min</td>\n",
       "      <td>False</td>\n",
       "    </tr>\n",
       "    <tr>\n",
       "      <th>3</th>\n",
       "      <td>2005-02-20</td>\n",
       "      <td>17:15</td>\n",
       "      <td>NaN</td>\n",
       "      <td>M</td>\n",
       "      <td>1986.0</td>\n",
       "      <td>19.0</td>\n",
       "      <td>White</td>\n",
       "      <td>Call for Service</td>\n",
       "      <td>Other</td>\n",
       "      <td>False</td>\n",
       "      <td>NaN</td>\n",
       "      <td>Arrest Driver</td>\n",
       "      <td>True</td>\n",
       "      <td>16-30 Min</td>\n",
       "      <td>False</td>\n",
       "    </tr>\n",
       "    <tr>\n",
       "      <th>4</th>\n",
       "      <td>2005-03-14</td>\n",
       "      <td>10:00</td>\n",
       "      <td>NaN</td>\n",
       "      <td>F</td>\n",
       "      <td>1984.0</td>\n",
       "      <td>21.0</td>\n",
       "      <td>White</td>\n",
       "      <td>Speeding</td>\n",
       "      <td>Speeding</td>\n",
       "      <td>False</td>\n",
       "      <td>NaN</td>\n",
       "      <td>Citation</td>\n",
       "      <td>False</td>\n",
       "      <td>0-15 Min</td>\n",
       "      <td>False</td>\n",
       "    </tr>\n",
       "  </tbody>\n",
       "</table>\n",
       "</div>"
      ],
      "text/plain": [
       "    stop_date stop_time  county_name driver_gender  driver_age_raw  \\\n",
       "0  2005-01-02     01:55          NaN             M          1985.0   \n",
       "1  2005-01-18     08:15          NaN             M          1965.0   \n",
       "2  2005-01-23     23:15          NaN             M          1972.0   \n",
       "3  2005-02-20     17:15          NaN             M          1986.0   \n",
       "4  2005-03-14     10:00          NaN             F          1984.0   \n",
       "\n",
       "   driver_age driver_race     violation_raw violation  search_conducted  \\\n",
       "0        20.0       White          Speeding  Speeding             False   \n",
       "1        40.0       White          Speeding  Speeding             False   \n",
       "2        33.0       White          Speeding  Speeding             False   \n",
       "3        19.0       White  Call for Service     Other             False   \n",
       "4        21.0       White          Speeding  Speeding             False   \n",
       "\n",
       "  search_type   stop_outcome is_arrested stop_duration  drugs_related_stop  \n",
       "0         NaN       Citation       False      0-15 Min               False  \n",
       "1         NaN       Citation       False      0-15 Min               False  \n",
       "2         NaN       Citation       False      0-15 Min               False  \n",
       "3         NaN  Arrest Driver        True     16-30 Min               False  \n",
       "4         NaN       Citation       False      0-15 Min               False  "
      ]
     },
     "execution_count": 3,
     "metadata": {},
     "output_type": "execute_result"
    }
   ],
   "source": [
    "# View the first few rows\n",
    "df.head()"
   ]
  },
  {
   "cell_type": "code",
   "execution_count": 4,
   "id": "ceaea80c",
   "metadata": {},
   "outputs": [
    {
     "name": "stdout",
     "output_type": "stream",
     "text": [
      "stop_date                 0\n",
      "stop_time                 0\n",
      "county_name           91741\n",
      "driver_gender          5335\n",
      "driver_age_raw         5327\n",
      "driver_age             5621\n",
      "driver_race            5333\n",
      "violation_raw          5333\n",
      "violation              5333\n",
      "search_conducted          0\n",
      "search_type           88545\n",
      "stop_outcome           5333\n",
      "is_arrested            5333\n",
      "stop_duration          5333\n",
      "drugs_related_stop        0\n",
      "dtype: int64\n"
     ]
    }
   ],
   "source": [
    "# Count the missing values\n",
    "print(df.isnull().sum())"
   ]
  },
  {
   "cell_type": "markdown",
   "id": "79f9bc12",
   "metadata": {},
   "source": [
    "It is clear that most of the columns have some missing values."
   ]
  },
  {
   "cell_type": "markdown",
   "id": "2f0036c9",
   "metadata": {},
   "source": [
    "## Data Wrangling"
   ]
  },
  {
   "cell_type": "markdown",
   "id": "83f579db",
   "metadata": {},
   "source": [
    "### Dropping column"
   ]
  },
  {
   "cell_type": "markdown",
   "id": "d2fca899",
   "metadata": {},
   "source": [
    "Often, a DataFrame will contain columns that are not useful to your analysis. Such columns should be dropped from the DataFrame, to make it easier for you to focus on the remaining columns.\n",
    "\n",
    "I'll drop the county_name column because it only contains missing values. Thus, these column can be dropped because it contain no useful information. "
   ]
  },
  {
   "cell_type": "code",
   "execution_count": 5,
   "id": "c043ebd9",
   "metadata": {},
   "outputs": [
    {
     "data": {
      "text/plain": [
       "(91741, 15)"
      ]
     },
     "execution_count": 5,
     "metadata": {},
     "output_type": "execute_result"
    }
   ],
   "source": [
    "# shape of the dataframe\n",
    "df.shape"
   ]
  },
  {
   "cell_type": "code",
   "execution_count": 6,
   "id": "f90c1295",
   "metadata": {},
   "outputs": [],
   "source": [
    "# drop the 'county_name' \n",
    "df.drop(['county_name'], axis = 'columns', inplace = True)"
   ]
  },
  {
   "cell_type": "code",
   "execution_count": 7,
   "id": "6bbe6fb4",
   "metadata": {},
   "outputs": [
    {
     "data": {
      "text/plain": [
       "(91741, 14)"
      ]
     },
     "execution_count": 7,
     "metadata": {},
     "output_type": "execute_result"
    }
   ],
   "source": [
    "# Re-examine the shape of the data\n",
    "df.shape"
   ]
  },
  {
   "cell_type": "markdown",
   "id": "4d51eadb",
   "metadata": {},
   "source": [
    "### Dropping rows"
   ]
  },
  {
   "cell_type": "markdown",
   "id": "3a7ee8bf",
   "metadata": {},
   "source": [
    "When you know that a specific column will be critical to your analysis, and only a small fraction of rows are missing a value in that column, it often makes sense to remove those rows from the dataset.\n",
    "\n",
    "The driver_gender column will be critical to many of my analyses. Because only a small fraction of rows are missing driver_gender, I'll drop those rows from the dataset."
   ]
  },
  {
   "cell_type": "code",
   "execution_count": 8,
   "id": "27f1bc2f",
   "metadata": {},
   "outputs": [],
   "source": [
    "# Drop all rows with missing values driver_gender column\n",
    "df.dropna(subset = ['driver_gender'], inplace = True)"
   ]
  },
  {
   "cell_type": "code",
   "execution_count": 9,
   "id": "9ba4277a",
   "metadata": {},
   "outputs": [
    {
     "data": {
      "text/plain": [
       "stop_date                 0\n",
       "stop_time                 0\n",
       "driver_gender             0\n",
       "driver_age_raw            1\n",
       "driver_age              293\n",
       "driver_race               0\n",
       "violation_raw             0\n",
       "violation                 0\n",
       "search_conducted          0\n",
       "search_type           83210\n",
       "stop_outcome              0\n",
       "is_arrested               0\n",
       "stop_duration             0\n",
       "drugs_related_stop        0\n",
       "dtype: int64"
      ]
     },
     "execution_count": 9,
     "metadata": {},
     "output_type": "execute_result"
    }
   ],
   "source": [
    "# count the missing values\n",
    "df.isnull().sum()"
   ]
  },
  {
   "cell_type": "markdown",
   "id": "30f37b8e",
   "metadata": {},
   "source": [
    "I dropped around 5,000 rows, which is a small fraction of the dataset."
   ]
  },
  {
   "cell_type": "markdown",
   "id": "151ffd23",
   "metadata": {},
   "source": [
    "### Fixing a data type"
   ]
  },
  {
   "cell_type": "code",
   "execution_count": 10,
   "id": "e00eaaf4",
   "metadata": {},
   "outputs": [
    {
     "data": {
      "text/html": [
       "<div>\n",
       "<style scoped>\n",
       "    .dataframe tbody tr th:only-of-type {\n",
       "        vertical-align: middle;\n",
       "    }\n",
       "\n",
       "    .dataframe tbody tr th {\n",
       "        vertical-align: top;\n",
       "    }\n",
       "\n",
       "    .dataframe thead th {\n",
       "        text-align: right;\n",
       "    }\n",
       "</style>\n",
       "<table border=\"1\" class=\"dataframe\">\n",
       "  <thead>\n",
       "    <tr style=\"text-align: right;\">\n",
       "      <th></th>\n",
       "      <th>stop_date</th>\n",
       "      <th>stop_time</th>\n",
       "      <th>driver_gender</th>\n",
       "      <th>driver_age_raw</th>\n",
       "      <th>driver_age</th>\n",
       "      <th>driver_race</th>\n",
       "      <th>violation_raw</th>\n",
       "      <th>violation</th>\n",
       "      <th>search_conducted</th>\n",
       "      <th>search_type</th>\n",
       "      <th>stop_outcome</th>\n",
       "      <th>is_arrested</th>\n",
       "      <th>stop_duration</th>\n",
       "      <th>drugs_related_stop</th>\n",
       "    </tr>\n",
       "  </thead>\n",
       "  <tbody>\n",
       "    <tr>\n",
       "      <th>0</th>\n",
       "      <td>2005-01-02</td>\n",
       "      <td>01:55</td>\n",
       "      <td>M</td>\n",
       "      <td>1985.0</td>\n",
       "      <td>20.0</td>\n",
       "      <td>White</td>\n",
       "      <td>Speeding</td>\n",
       "      <td>Speeding</td>\n",
       "      <td>False</td>\n",
       "      <td>NaN</td>\n",
       "      <td>Citation</td>\n",
       "      <td>False</td>\n",
       "      <td>0-15 Min</td>\n",
       "      <td>False</td>\n",
       "    </tr>\n",
       "    <tr>\n",
       "      <th>1</th>\n",
       "      <td>2005-01-18</td>\n",
       "      <td>08:15</td>\n",
       "      <td>M</td>\n",
       "      <td>1965.0</td>\n",
       "      <td>40.0</td>\n",
       "      <td>White</td>\n",
       "      <td>Speeding</td>\n",
       "      <td>Speeding</td>\n",
       "      <td>False</td>\n",
       "      <td>NaN</td>\n",
       "      <td>Citation</td>\n",
       "      <td>False</td>\n",
       "      <td>0-15 Min</td>\n",
       "      <td>False</td>\n",
       "    </tr>\n",
       "    <tr>\n",
       "      <th>2</th>\n",
       "      <td>2005-01-23</td>\n",
       "      <td>23:15</td>\n",
       "      <td>M</td>\n",
       "      <td>1972.0</td>\n",
       "      <td>33.0</td>\n",
       "      <td>White</td>\n",
       "      <td>Speeding</td>\n",
       "      <td>Speeding</td>\n",
       "      <td>False</td>\n",
       "      <td>NaN</td>\n",
       "      <td>Citation</td>\n",
       "      <td>False</td>\n",
       "      <td>0-15 Min</td>\n",
       "      <td>False</td>\n",
       "    </tr>\n",
       "    <tr>\n",
       "      <th>3</th>\n",
       "      <td>2005-02-20</td>\n",
       "      <td>17:15</td>\n",
       "      <td>M</td>\n",
       "      <td>1986.0</td>\n",
       "      <td>19.0</td>\n",
       "      <td>White</td>\n",
       "      <td>Call for Service</td>\n",
       "      <td>Other</td>\n",
       "      <td>False</td>\n",
       "      <td>NaN</td>\n",
       "      <td>Arrest Driver</td>\n",
       "      <td>True</td>\n",
       "      <td>16-30 Min</td>\n",
       "      <td>False</td>\n",
       "    </tr>\n",
       "    <tr>\n",
       "      <th>4</th>\n",
       "      <td>2005-03-14</td>\n",
       "      <td>10:00</td>\n",
       "      <td>F</td>\n",
       "      <td>1984.0</td>\n",
       "      <td>21.0</td>\n",
       "      <td>White</td>\n",
       "      <td>Speeding</td>\n",
       "      <td>Speeding</td>\n",
       "      <td>False</td>\n",
       "      <td>NaN</td>\n",
       "      <td>Citation</td>\n",
       "      <td>False</td>\n",
       "      <td>0-15 Min</td>\n",
       "      <td>False</td>\n",
       "    </tr>\n",
       "  </tbody>\n",
       "</table>\n",
       "</div>"
      ],
      "text/plain": [
       "    stop_date stop_time driver_gender  driver_age_raw  driver_age driver_race  \\\n",
       "0  2005-01-02     01:55             M          1985.0        20.0       White   \n",
       "1  2005-01-18     08:15             M          1965.0        40.0       White   \n",
       "2  2005-01-23     23:15             M          1972.0        33.0       White   \n",
       "3  2005-02-20     17:15             M          1986.0        19.0       White   \n",
       "4  2005-03-14     10:00             F          1984.0        21.0       White   \n",
       "\n",
       "      violation_raw violation  search_conducted search_type   stop_outcome  \\\n",
       "0          Speeding  Speeding             False         NaN       Citation   \n",
       "1          Speeding  Speeding             False         NaN       Citation   \n",
       "2          Speeding  Speeding             False         NaN       Citation   \n",
       "3  Call for Service     Other             False         NaN  Arrest Driver   \n",
       "4          Speeding  Speeding             False         NaN       Citation   \n",
       "\n",
       "  is_arrested stop_duration  drugs_related_stop  \n",
       "0       False      0-15 Min               False  \n",
       "1       False      0-15 Min               False  \n",
       "2       False      0-15 Min               False  \n",
       "3        True     16-30 Min               False  \n",
       "4       False      0-15 Min               False  "
      ]
     },
     "execution_count": 10,
     "metadata": {},
     "output_type": "execute_result"
    }
   ],
   "source": [
    "# Examine the first five rows\n",
    "df.head()"
   ]
  },
  {
   "cell_type": "markdown",
   "id": "7993e5fb",
   "metadata": {},
   "source": [
    "is_arrested column currently has the object data type. therefore, i'll change the data type to bool, which is the most suitable type for a column containing True and False values.\n",
    "\n",
    "Fixing the data type will enable us to use mathematical operations on the is_arrested column that would not be possible otherwise."
   ]
  },
  {
   "cell_type": "code",
   "execution_count": 11,
   "id": "3cffe393",
   "metadata": {},
   "outputs": [],
   "source": [
    "# Change the data type of 'is_arrested' to 'bool'\n",
    "df['is_arrested'] = df.is_arrested.astype(bool)"
   ]
  },
  {
   "cell_type": "code",
   "execution_count": 12,
   "id": "e8da995c",
   "metadata": {},
   "outputs": [
    {
     "name": "stdout",
     "output_type": "stream",
     "text": [
      "bool\n"
     ]
    }
   ],
   "source": [
    "# Check the data type of 'is_arrested' \n",
    "print(df.is_arrested.dtype)"
   ]
  },
  {
   "cell_type": "markdown",
   "id": "ae8117d2",
   "metadata": {},
   "source": [
    "### Combining object columns"
   ]
  },
  {
   "cell_type": "markdown",
   "id": "8a913249",
   "metadata": {},
   "source": [
    "Currently, the date and time of each traffic stop are stored in separate object columns: stop_date and stop_time.\n",
    "    \n",
    "To fix this, I'll combine these two columns into a single column, and then convert it to datetime format. This will enable convenient date-based attributes that I'll use later in the analysis."
   ]
  },
  {
   "cell_type": "code",
   "execution_count": 13,
   "id": "5e997b87",
   "metadata": {},
   "outputs": [
    {
     "name": "stdout",
     "output_type": "stream",
     "text": [
      "stop_date                     object\n",
      "stop_time                     object\n",
      "driver_gender                 object\n",
      "driver_age_raw               float64\n",
      "driver_age                   float64\n",
      "driver_race                   object\n",
      "violation_raw                 object\n",
      "violation                     object\n",
      "search_conducted                bool\n",
      "search_type                   object\n",
      "stop_outcome                  object\n",
      "is_arrested                     bool\n",
      "stop_duration                 object\n",
      "drugs_related_stop              bool\n",
      "stop_datetime         datetime64[ns]\n",
      "dtype: object\n"
     ]
    }
   ],
   "source": [
    "# Concatenate 'stop_date' and 'stop_time' (separated by a space)\n",
    "combined = df.stop_date.str.cat(df.stop_time, sep=' ')\n",
    "\n",
    "# Convert 'combined' to datetime format\n",
    "df['stop_datetime'] = pd.to_datetime(combined)\n",
    "\n",
    "# Examine the data types of the DataFrame\n",
    "print(df.dtypes)"
   ]
  },
  {
   "cell_type": "markdown",
   "id": "38db3c62",
   "metadata": {},
   "source": [
    "### Setting the index"
   ]
  },
  {
   "cell_type": "markdown",
   "id": "62e3a142",
   "metadata": {},
   "source": [
    "The last step that I'll take in this chapter is to set the stop_datetime column as the DataFrame's index. By replacing the default index with a DatetimeIndex, I'll make it easier to analyze the dataset by date and time, which will come in handy later in the analysis"
   ]
  },
  {
   "cell_type": "code",
   "execution_count": 14,
   "id": "df1097b7",
   "metadata": {},
   "outputs": [
    {
     "name": "stdout",
     "output_type": "stream",
     "text": [
      "DatetimeIndex(['2005-01-02 01:55:00', '2005-01-18 08:15:00',\n",
      "               '2005-01-23 23:15:00', '2005-02-20 17:15:00',\n",
      "               '2005-03-14 10:00:00', '2005-03-23 09:45:00',\n",
      "               '2005-04-01 17:30:00', '2005-06-06 13:20:00',\n",
      "               '2005-07-13 10:15:00', '2005-07-13 15:45:00',\n",
      "               ...\n",
      "               '2015-12-31 16:38:00', '2015-12-31 19:44:00',\n",
      "               '2015-12-31 19:55:00', '2015-12-31 20:20:00',\n",
      "               '2015-12-31 20:25:00', '2015-12-31 20:27:00',\n",
      "               '2015-12-31 20:35:00', '2015-12-31 20:45:00',\n",
      "               '2015-12-31 21:42:00', '2015-12-31 22:46:00'],\n",
      "              dtype='datetime64[ns]', name='stop_datetime', length=86406, freq=None)\n",
      "Index(['stop_date', 'stop_time', 'driver_gender', 'driver_age_raw',\n",
      "       'driver_age', 'driver_race', 'violation_raw', 'violation',\n",
      "       'search_conducted', 'search_type', 'stop_outcome', 'is_arrested',\n",
      "       'stop_duration', 'drugs_related_stop'],\n",
      "      dtype='object')\n"
     ]
    }
   ],
   "source": [
    "# set the stop_datetime as the index\n",
    "df.set_index('stop_datetime', inplace = True)\n",
    "\n",
    "#examine the index\n",
    "print(df.index)\n",
    "\n",
    "# examine the columns\n",
    "print(df.columns)\n"
   ]
  },
  {
   "cell_type": "markdown",
   "id": "99fb8637",
   "metadata": {},
   "source": [
    "# Exploring the relationship between gender and policing\n",
    "\n",
    "Does the gender of a driver have an impact on police behavior during a traffic stop? In this chapter, you will explore that question while practicing filtering, grouping, method chaining, Boolean math, string methods, and more!"
   ]
  },
  {
   "cell_type": "markdown",
   "id": "f796f006",
   "metadata": {},
   "source": [
    "## Does gender affect who gets a ticket for speeding?"
   ]
  },
  {
   "cell_type": "markdown",
   "id": "46393f69",
   "metadata": {},
   "source": [
    "### Examining traffic violations"
   ]
  },
  {
   "cell_type": "markdown",
   "id": "8d05464c",
   "metadata": {},
   "source": [
    "Before comparing the violations being committed by each gender, I should examine the violations committed by all drivers to get a baseline understanding of the data.\n",
    "\n",
    "In this exercise, I'll count the unique values in the violation column, and then separately express those counts as proportions."
   ]
  },
  {
   "cell_type": "code",
   "execution_count": 15,
   "id": "41ad5dfd",
   "metadata": {},
   "outputs": [
    {
     "name": "stdout",
     "output_type": "stream",
     "text": [
      "unique_values:\n",
      " Speeding               48461\n",
      "Moving violation       16224\n",
      "Equipment              11020\n",
      "Other                   4317\n",
      "Registration/plates     3432\n",
      "Seat belt               2952\n",
      "Name: violation, dtype: int64\n"
     ]
    }
   ],
   "source": [
    "# Count the unique values in 'violation'\n",
    "print('unique_values:\\n', df.violation.value_counts())"
   ]
  },
  {
   "cell_type": "code",
   "execution_count": 16,
   "id": "a9b54506",
   "metadata": {},
   "outputs": [
    {
     "name": "stdout",
     "output_type": "stream",
     "text": [
      "proportion:\n",
      " Speeding               0.560852\n",
      "Moving violation       0.187765\n",
      "Equipment              0.127537\n",
      "Other                  0.049962\n",
      "Registration/plates    0.039719\n",
      "Seat belt              0.034164\n",
      "Name: violation, dtype: float64\n"
     ]
    }
   ],
   "source": [
    "# Express the counts as proportions\n",
    "print('proportion:\\n', df.violation.value_counts(normalize=True))"
   ]
  },
  {
   "cell_type": "markdown",
   "id": "87c57290",
   "metadata": {},
   "source": [
    "Interesting! More than half of all violations are for speeding, followed by other moving violations and equipment violations."
   ]
  },
  {
   "cell_type": "markdown",
   "id": "3d2d41f5",
   "metadata": {},
   "source": [
    "### Comparing violations by gender"
   ]
  },
  {
   "cell_type": "markdown",
   "id": "5bd6299c",
   "metadata": {},
   "source": [
    "The question I am trying to answer is whether male and female drivers tend to commit different types of traffic violations.\n",
    "\n",
    "In this exercise, I'll first create a DataFrame for each gender, and then analyze the violations in each DataFrame separately."
   ]
  },
  {
   "cell_type": "code",
   "execution_count": 17,
   "id": "902d4706",
   "metadata": {},
   "outputs": [],
   "source": [
    "# Create a DataFrame of female drivers\n",
    "female = df[df.driver_gender== 'F']\n",
    "\n",
    "# Create a DataFrame of male drivers\n",
    "male = df[df.driver_gender== 'M']"
   ]
  },
  {
   "cell_type": "code",
   "execution_count": 18,
   "id": "343db353",
   "metadata": {},
   "outputs": [
    {
     "name": "stdout",
     "output_type": "stream",
     "text": [
      "Speeding               0.658500\n",
      "Moving violation       0.136277\n",
      "Equipment              0.105780\n",
      "Registration/plates    0.043086\n",
      "Other                  0.029348\n",
      "Seat belt              0.027009\n",
      "Name: violation, dtype: float64\n"
     ]
    }
   ],
   "source": [
    "# Compute the violations by female drivers (as proportions)\n",
    "print(female.violation.value_counts(normalize=True))"
   ]
  },
  {
   "cell_type": "code",
   "execution_count": 19,
   "id": "74b1cb75",
   "metadata": {},
   "outputs": [
    {
     "name": "stdout",
     "output_type": "stream",
     "text": [
      "Speeding               0.524350\n",
      "Moving violation       0.207012\n",
      "Equipment              0.135671\n",
      "Other                  0.057668\n",
      "Registration/plates    0.038461\n",
      "Seat belt              0.036839\n",
      "Name: violation, dtype: float64\n"
     ]
    }
   ],
   "source": [
    "# Compute the violations by male drivers (as proportions)\n",
    "print(male.violation.value_counts(normalize=True))"
   ]
  },
  {
   "cell_type": "markdown",
   "id": "da598c1f",
   "metadata": {},
   "source": [
    "About two-thirds of female traffic stops are for speeding, whereas stops of males are more balanced among the six categories. This doesn't mean that females speed more often than males, however, since we didn't take into account the number of stops or drivers."
   ]
  },
  {
   "cell_type": "markdown",
   "id": "dabe6ed2",
   "metadata": {},
   "source": [
    "## Does gender affect who gets a ticket for overspeeding"
   ]
  },
  {
   "cell_type": "markdown",
   "id": "045b50e3",
   "metadata": {},
   "source": [
    " ### Comparing speeding outcomes by gender"
   ]
  },
  {
   "cell_type": "markdown",
   "id": "4ebe418a",
   "metadata": {},
   "source": [
    "When a driver is pulled over for speeding, many people believe that gender has an impact on whether the driver will receive a ticket or a warning. Can I find evidence of this in the dataset?\n",
    "\n",
    "First, I'll create two DataFrames of drivers who were stopped for speeding: one containing females and the other containing males.\n",
    "\n",
    "Then, for each gender, I'll use the stop_outcome column to calculate what percentage of stops resulted in a \"Citation\" (meaning a ticket) versus a \"Warning\"."
   ]
  },
  {
   "cell_type": "code",
   "execution_count": 20,
   "id": "3ebcfa31",
   "metadata": {},
   "outputs": [],
   "source": [
    "# Create a DataFrame of female drivers stopped for speeding\n",
    "female_and_speeding = df[(df.driver_gender == 'F') & (df.violation == 'Speeding')]\n",
    "\n",
    "# Create a DataFrame of male drivers stopped for speeding\n",
    "male_and_speeding = df[(df.driver_gender == 'M') & (df.violation == 'Speeding')]"
   ]
  },
  {
   "cell_type": "code",
   "execution_count": 21,
   "id": "7c230139",
   "metadata": {},
   "outputs": [
    {
     "name": "stdout",
     "output_type": "stream",
     "text": [
      "Citation            0.952590\n",
      "Warning             0.039917\n",
      "Arrest Driver       0.005361\n",
      "Arrest Passenger    0.000840\n",
      "N/D                 0.000840\n",
      "No Action           0.000452\n",
      "Name: stop_outcome, dtype: float64\n"
     ]
    }
   ],
   "source": [
    "# Compute the stop outcomes for female drivers (as proportions)\n",
    "print(female_and_speeding.stop_outcome.value_counts(normalize=True))\n"
   ]
  },
  {
   "cell_type": "code",
   "execution_count": 22,
   "id": "1f489c00",
   "metadata": {},
   "outputs": [
    {
     "name": "stdout",
     "output_type": "stream",
     "text": [
      "Citation            0.946208\n",
      "Warning             0.035265\n",
      "Arrest Driver       0.015161\n",
      "Arrest Passenger    0.001243\n",
      "N/D                 0.001061\n",
      "No Action           0.001061\n",
      "Name: stop_outcome, dtype: float64\n"
     ]
    }
   ],
   "source": [
    "# Compute the stop outcomes for male drivers (as proportions)\n",
    "print(male_and_speeding.stop_outcome.value_counts(normalize=True))"
   ]
  },
  {
   "cell_type": "markdown",
   "id": "ac2bd3a2",
   "metadata": {},
   "source": [
    "Interesting! The numbers are similar for males and females: about 95% of stops for speeding result in a ticket. Thus, the data fails to show that gender has an impact on who gets a ticket for speeding."
   ]
  },
  {
   "cell_type": "markdown",
   "id": "8503a9a6",
   "metadata": {},
   "source": [
    "## Does gender affect whose vehicle is searched?"
   ]
  },
  {
   "cell_type": "markdown",
   "id": "95dd2ff1",
   "metadata": {},
   "source": [
    "### Calculating the search rate"
   ]
  },
  {
   "cell_type": "markdown",
   "id": "4ee2dc67",
   "metadata": {},
   "source": [
    "During a traffic stop, the police officer sometimes conducts a search of the vehicle. In the cell that follws, I'll calculate the percentage of all stops in the ri DataFrame that result in a vehicle search, also known as the search rate."
   ]
  },
  {
   "cell_type": "code",
   "execution_count": 23,
   "id": "1e0b5bcd",
   "metadata": {},
   "outputs": [
    {
     "name": "stdout",
     "output_type": "stream",
     "text": [
      "bool\n"
     ]
    }
   ],
   "source": [
    "# Check the data type of 'search_conducted'\n",
    "print(df.search_conducted.dtype)"
   ]
  },
  {
   "cell_type": "code",
   "execution_count": 24,
   "id": "406b126c",
   "metadata": {},
   "outputs": [
    {
     "name": "stdout",
     "output_type": "stream",
     "text": [
      "False    0.963012\n",
      "True     0.036988\n",
      "Name: search_conducted, dtype: float64\n"
     ]
    }
   ],
   "source": [
    "# Calculate the search rate by counting the values\n",
    "print(df.search_conducted.value_counts(normalize = True))"
   ]
  },
  {
   "cell_type": "code",
   "execution_count": 25,
   "id": "d57c4790",
   "metadata": {},
   "outputs": [
    {
     "name": "stdout",
     "output_type": "stream",
     "text": [
      "0.036988172117677014\n"
     ]
    }
   ],
   "source": [
    "# Calculate the search rate by taking the mean\n",
    "print(df.search_conducted.mean())"
   ]
  },
  {
   "cell_type": "markdown",
   "id": "1aa3aceb",
   "metadata": {},
   "source": [
    "Great! It looks like the search rate is about 3.7%. Next, you'll examine whether the search rate varies by driver gender."
   ]
  },
  {
   "cell_type": "markdown",
   "id": "9b3627c3",
   "metadata": {},
   "source": [
    "### Comparing search rates by gender"
   ]
  },
  {
   "cell_type": "markdown",
   "id": "5a2b608c",
   "metadata": {},
   "source": [
    "First, I'll filter the DataFrame by gender and calculate the search rate for each group separately. Then, I'll perform the same calculation for both genders at once using a .groupby()"
   ]
  },
  {
   "cell_type": "code",
   "execution_count": 26,
   "id": "98f79cb6",
   "metadata": {},
   "outputs": [
    {
     "name": "stdout",
     "output_type": "stream",
     "text": [
      "0.02003317596018885\n"
     ]
    }
   ],
   "source": [
    "# Calculate the search rate for female drivers\n",
    "print(df[df.driver_gender=='F'].search_conducted.mean())"
   ]
  },
  {
   "cell_type": "code",
   "execution_count": 27,
   "id": "706b4536",
   "metadata": {},
   "outputs": [
    {
     "name": "stdout",
     "output_type": "stream",
     "text": [
      "0.04332617855155418\n"
     ]
    }
   ],
   "source": [
    "# Calculate the search rate for male drivers\n",
    "print(df[df.driver_gender=='M'].search_conducted.mean())"
   ]
  },
  {
   "cell_type": "code",
   "execution_count": 28,
   "id": "6bf967b5",
   "metadata": {},
   "outputs": [
    {
     "name": "stdout",
     "output_type": "stream",
     "text": [
      "driver_gender\n",
      "F    0.020033\n",
      "M    0.043326\n",
      "Name: search_conducted, dtype: float64\n"
     ]
    }
   ],
   "source": [
    "# Calculate the search rate for both groups simultaneously\n",
    "print(df.groupby('driver_gender').search_conducted.mean())"
   ]
  },
  {
   "cell_type": "markdown",
   "id": "c26cb6a8",
   "metadata": {},
   "source": [
    "Male drivers are searched more than twice as often as female drivers."
   ]
  },
  {
   "cell_type": "markdown",
   "id": "706c962f",
   "metadata": {},
   "source": [
    "### Adding a second factor to the analysis"
   ]
  },
  {
   "cell_type": "markdown",
   "id": "56500bbb",
   "metadata": {},
   "source": [
    "Even though the search rate for males is much higher than for females, it's possible that the difference is mostly due to a second factor.\n",
    "\n",
    "For example, you might hypothesize that the search rate varies by violation type, and the difference in search rate between males and females is because they tend to commit different violations.\n",
    "\n",
    "You can test this hypothesis by examining the search rate for each combination of gender and violation. If the hypothesis was true, you would find that males and females are searched at about the same rate for each violation. Let's find out if that's the case!"
   ]
  },
  {
   "cell_type": "code",
   "execution_count": 29,
   "id": "12590150",
   "metadata": {},
   "outputs": [
    {
     "name": "stdout",
     "output_type": "stream",
     "text": [
      "driver_gender  violation          \n",
      "F              Equipment              0.042622\n",
      "               Moving violation       0.036205\n",
      "               Other                  0.056522\n",
      "               Registration/plates    0.066140\n",
      "               Seat belt              0.012598\n",
      "               Speeding               0.008720\n",
      "M              Equipment              0.070081\n",
      "               Moving violation       0.059831\n",
      "               Other                  0.047146\n",
      "               Registration/plates    0.110376\n",
      "               Seat belt              0.037980\n",
      "               Speeding               0.024925\n",
      "Name: search_conducted, dtype: float64\n"
     ]
    }
   ],
   "source": [
    "# Calculate the search rate for each combination of gender and violation\n",
    "print(df.groupby(['driver_gender', 'violation']).search_conducted.mean())"
   ]
  },
  {
   "cell_type": "code",
   "execution_count": 30,
   "id": "dc0004e5",
   "metadata": {},
   "outputs": [
    {
     "name": "stdout",
     "output_type": "stream",
     "text": [
      "violation            driver_gender\n",
      "Equipment            F                0.042622\n",
      "                     M                0.070081\n",
      "Moving violation     F                0.036205\n",
      "                     M                0.059831\n",
      "Other                F                0.056522\n",
      "                     M                0.047146\n",
      "Registration/plates  F                0.066140\n",
      "                     M                0.110376\n",
      "Seat belt            F                0.012598\n",
      "                     M                0.037980\n",
      "Speeding             F                0.008720\n",
      "                     M                0.024925\n",
      "Name: search_conducted, dtype: float64\n"
     ]
    }
   ],
   "source": [
    "# Reverse the ordering to group by violation before gender\n",
    "print(df.groupby(['violation', 'driver_gender']).search_conducted.mean())"
   ]
  },
  {
   "cell_type": "markdown",
   "id": "bd83b66d",
   "metadata": {},
   "source": [
    " For all types of violations, the search rate is higher for males than for females, disproving our hypothesis."
   ]
  },
  {
   "cell_type": "markdown",
   "id": "01ee1337",
   "metadata": {},
   "source": [
    "## Does gender affect who is frisked during a search"
   ]
  },
  {
   "cell_type": "markdown",
   "id": "5109900a",
   "metadata": {},
   "source": [
    "### Counting protective frisks"
   ]
  },
  {
   "cell_type": "markdown",
   "id": "7460585c",
   "metadata": {},
   "source": [
    "During a vehicle search, the police officer may pat down the driver to check if they have a weapon. This is known as a \"protective frisk.\"\n",
    "\n",
    "In this point, I'll first check to see how many times \"Protective Frisk\" was the only search type. Then, I'll use a string method to locate all instances in which the driver was frisked."
   ]
  },
  {
   "cell_type": "code",
   "execution_count": 31,
   "id": "51cc89c6",
   "metadata": {},
   "outputs": [
    {
     "name": "stdout",
     "output_type": "stream",
     "text": [
      "Incident to Arrest                                          1219\n",
      "Probable Cause                                               891\n",
      "Inventory                                                    220\n",
      "Reasonable Suspicion                                         197\n",
      "Protective Frisk                                             161\n",
      "Incident to Arrest,Inventory                                 129\n",
      "Incident to Arrest,Probable Cause                            106\n",
      "Probable Cause,Reasonable Suspicion                           75\n",
      "Incident to Arrest,Inventory,Probable Cause                   34\n",
      "Incident to Arrest,Protective Frisk                           33\n",
      "Probable Cause,Protective Frisk                               33\n",
      "Inventory,Probable Cause                                      22\n",
      "Incident to Arrest,Reasonable Suspicion                       13\n",
      "Inventory,Protective Frisk                                    11\n",
      "Incident to Arrest,Inventory,Protective Frisk                 11\n",
      "Protective Frisk,Reasonable Suspicion                         11\n",
      "Incident to Arrest,Probable Cause,Protective Frisk            10\n",
      "Incident to Arrest,Probable Cause,Reasonable Suspicion         6\n",
      "Incident to Arrest,Inventory,Reasonable Suspicion              4\n",
      "Inventory,Reasonable Suspicion                                 4\n",
      "Inventory,Probable Cause,Protective Frisk                      2\n",
      "Inventory,Probable Cause,Reasonable Suspicion                  2\n",
      "Incident to Arrest,Protective Frisk,Reasonable Suspicion       1\n",
      "Probable Cause,Protective Frisk,Reasonable Suspicion           1\n",
      "Name: search_type, dtype: int64\n"
     ]
    }
   ],
   "source": [
    "# Count the 'search_type' values\n",
    "print(df.search_type.value_counts())"
   ]
  },
  {
   "cell_type": "code",
   "execution_count": 32,
   "id": "17ba964d",
   "metadata": {},
   "outputs": [],
   "source": [
    "# Check if 'search_type' contains the string 'Protective Frisk'\n",
    "df['frisk'] = df.search_type.str.contains('Protective Frisk', na=False)"
   ]
  },
  {
   "cell_type": "code",
   "execution_count": 33,
   "id": "0b4ba0dd",
   "metadata": {},
   "outputs": [
    {
     "name": "stdout",
     "output_type": "stream",
     "text": [
      "bool\n"
     ]
    }
   ],
   "source": [
    "# Check the data type of 'frisk'\n",
    "print(df.frisk.dtype)"
   ]
  },
  {
   "cell_type": "code",
   "execution_count": 34,
   "id": "5cae3b29",
   "metadata": {},
   "outputs": [
    {
     "name": "stdout",
     "output_type": "stream",
     "text": [
      "274\n"
     ]
    }
   ],
   "source": [
    "# Take the sum of 'frisk'\n",
    "print(df.frisk.sum())"
   ]
  },
  {
   "cell_type": "markdown",
   "id": "bad55b4a",
   "metadata": {},
   "source": [
    "It looks like there were 274 drivers who were frisked. Next, you'll examine whether gender affects who is frisked."
   ]
  },
  {
   "cell_type": "markdown",
   "id": "cb144cef",
   "metadata": {},
   "source": [
    "### Comparing frisk rates by gender"
   ]
  },
  {
   "cell_type": "markdown",
   "id": "acbb8d85",
   "metadata": {},
   "source": [
    "I'll compare the rates at which female and male drivers are frisked during a search. Are males frisked more often than females, perhaps because police officers consider them to be higher risk?\n",
    "\n",
    "Before doing any calculations, it's important to filter the DataFrame to only include the relevant subset of data, namely stops in which a search was conducted."
   ]
  },
  {
   "cell_type": "code",
   "execution_count": 35,
   "id": "bb7a8e18",
   "metadata": {},
   "outputs": [
    {
     "name": "stdout",
     "output_type": "stream",
     "text": [
      "Mean:  0.08573216520650813\n",
      "driver_gender\n",
      "F    0.061571\n",
      "M    0.089908\n",
      "Name: frisk, dtype: float64\n"
     ]
    }
   ],
   "source": [
    "# Create a DataFrame of stops in which a search was conducted\n",
    "searched = df[df.search_conducted == True]\n",
    "\n",
    "# Calculate the overall frisk rate by taking the mean of 'frisk'\n",
    "print('Mean: ', searched.frisk.mean())\n",
    "\n",
    "# Calculate the frisk rate for each gender\n",
    "print(searched.groupby('driver_gender')['frisk'].mean())"
   ]
  },
  {
   "cell_type": "markdown",
   "id": "777d1750",
   "metadata": {},
   "source": [
    "The frisk rate is higher for males than for females, though we can't conclude that this difference is caused by the driver's gender."
   ]
  },
  {
   "cell_type": "markdown",
   "id": "e72ece87",
   "metadata": {},
   "source": [
    "# Visual exploratory data analysis\n",
    "\n",
    "Are you more likely to get arrested at a certain time of day? Are drug-related stops on the rise? In this chapter, I will answer these and other questions by analyzing the dataset visually, since plots can help me to understand trends in a way that examining the raw data cannot."
   ]
  },
  {
   "cell_type": "markdown",
   "id": "c2b8c9f1",
   "metadata": {},
   "source": [
    "## Does time of day affect arrest rate?"
   ]
  },
  {
   "cell_type": "markdown",
   "id": "e37a76ba",
   "metadata": {},
   "source": [
    "### Calculating the hourly arrest rate"
   ]
  },
  {
   "cell_type": "markdown",
   "id": "5c0b03ea",
   "metadata": {},
   "source": [
    "When a police officer stops a driver, a small percentage of those stops ends in an arrest. This is known as the arrest rate. I'll find out whether the arrest rate varies by time of day.\n",
    "\n",
    "First, I'll calculate the arrest rate across all stops in the df DataFrame. Then, I'll calculate the hourly arrest rate by using the hour attribute of the index. The hour ranges from 0 to 23, in which:\n",
    "\n",
    "- 0 = midnight\n",
    "- 12 = noon\n",
    "- 23 = 11 PM"
   ]
  },
  {
   "cell_type": "code",
   "execution_count": 36,
   "id": "0fd563a3",
   "metadata": {},
   "outputs": [
    {
     "name": "stdout",
     "output_type": "stream",
     "text": [
      "0.03389810892762077\n"
     ]
    }
   ],
   "source": [
    "# Calculate the overall arrest rate\n",
    "print(df.is_arrested.mean())"
   ]
  },
  {
   "cell_type": "code",
   "execution_count": 37,
   "id": "6b437446",
   "metadata": {},
   "outputs": [
    {
     "name": "stdout",
     "output_type": "stream",
     "text": [
      "stop_datetime\n",
      "0     0.047393\n",
      "1     0.061428\n",
      "2     0.062914\n",
      "3     0.053221\n",
      "4     0.074074\n",
      "5     0.031915\n",
      "6     0.014045\n",
      "7     0.013498\n",
      "8     0.020449\n",
      "9     0.024703\n",
      "10    0.025278\n",
      "11    0.027037\n",
      "12    0.032999\n",
      "13    0.030100\n",
      "14    0.032716\n",
      "15    0.032307\n",
      "16    0.030765\n",
      "17    0.032757\n",
      "18    0.043988\n",
      "19    0.031506\n",
      "20    0.041048\n",
      "21    0.053795\n",
      "22    0.043397\n",
      "23    0.042825\n",
      "Name: is_arrested, dtype: float64\n"
     ]
    }
   ],
   "source": [
    "# Save the hourly arrest rate\n",
    "hourly_arrest_rate = df.groupby(df.index.hour).is_arrested.mean()\n",
    "\n",
    "# Calculate the hourly arrest rate\n",
    "print(hourly_arrest_rate)"
   ]
  },
  {
   "cell_type": "markdown",
   "id": "e4fed4e5",
   "metadata": {},
   "source": [
    "### Plotting the hourly arrest rate"
   ]
  },
  {
   "cell_type": "markdown",
   "id": "7b9cfe89",
   "metadata": {},
   "source": [
    "I'll create a line plot from the hourly_arrest_rate object. A line plot is appropriate in this case because I am showing how a quantity changes over time.\n",
    "\n",
    "This plot should help me to spot some trends that may not have been obvious when examining the raw numbers!"
   ]
  },
  {
   "cell_type": "code",
   "execution_count": 38,
   "id": "1d4b2d1a",
   "metadata": {},
   "outputs": [
    {
     "data": {
      "image/png": "[encoded data removed]",
      "text/plain": [
       "<Figure size 432x288 with 1 Axes>"
      ]
     },
     "metadata": {
      "needs_background": "light"
     },
     "output_type": "display_data"
    }
   ],
   "source": [
    "# Create a line plot of 'hourly_arrest_rate'\n",
    "\n",
    "hourly_arrest_rate.plot()\n",
    "# Add the xlabel, ylabel, and title\n",
    "plt.xlabel('Hour')\n",
    "plt.ylabel('Arrest Rate')\n",
    "plt.title('Arrest Rate by Time of Day')\n",
    "\n",
    "# Display the plot\n",
    "plt.show()"
   ]
  },
  {
   "cell_type": "markdown",
   "id": "9d1da5de",
   "metadata": {},
   "source": [
    "The arrest rate has a significant spike overnight, and then dips in the early morning hours."
   ]
  },
  {
   "cell_type": "markdown",
   "id": "aa8db166",
   "metadata": {},
   "source": [
    "## Are drug-related stops on the rise?"
   ]
  },
  {
   "cell_type": "markdown",
   "id": "d86b1488",
   "metadata": {},
   "source": [
    " ### Plotting drug-related stops"
   ]
  },
  {
   "cell_type": "markdown",
   "id": "3d300473",
   "metadata": {},
   "source": [
    "In a small portion of traffic stops, drugs are found in the vehicle during a search. In this case, I'll assess whether these drug-related stops are becoming more common over time.\n",
    "\n",
    "The Boolean column drugs_related_stop indicates whether drugs were found during a given stop. I'll calculate the annual drug rate by resampling this column, and then I'll use a line plot to visualize how the rate has changed over time."
   ]
  },
  {
   "cell_type": "code",
   "execution_count": 39,
   "id": "0fde7ae3",
   "metadata": {},
   "outputs": [
    {
     "name": "stdout",
     "output_type": "stream",
     "text": [
      "stop_datetime\n",
      "2005-12-31    0.007186\n",
      "2006-12-31    0.005818\n",
      "2007-12-31    0.007524\n",
      "2008-12-31    0.006993\n",
      "2009-12-31    0.011607\n",
      "2010-12-31    0.008721\n",
      "2011-12-31    0.008449\n",
      "2012-12-31    0.010870\n",
      "2013-12-31    0.011858\n",
      "2014-12-31    0.013335\n",
      "2015-12-31    0.010448\n",
      "Freq: A-DEC, Name: drugs_related_stop, dtype: float64\n"
     ]
    }
   ],
   "source": [
    "# Save the annual rate of drug-related stops\n",
    "annual_drug_rate = df.drugs_related_stop.resample('A').mean()\n",
    "\n",
    "# Calculate the annual rate of drug-related stops\n",
    "print(annual_drug_rate)\n"
   ]
  },
  {
   "cell_type": "code",
   "execution_count": 40,
   "id": "84d5869d",
   "metadata": {},
   "outputs": [
    {
     "data": {
      "image/png": "[encoded data removed]",
      "text/plain": [
       "<Figure size 432x288 with 1 Axes>"
      ]
     },
     "metadata": {
      "needs_background": "light"
     },
     "output_type": "display_data"
    }
   ],
   "source": [
    "# Create a line plot of 'annual_drug_rate'\n",
    "annual_drug_rate.plot()\n",
    "\n",
    "# Display the plot\n",
    "plt.show()"
   ]
  },
  {
   "cell_type": "markdown",
   "id": "59f1d942",
   "metadata": {},
   "source": [
    "Interesting! The rate of drug-related stops nearly doubled over the course of 10 years. Why might that be the case?"
   ]
  },
  {
   "cell_type": "markdown",
   "id": "4c5aa2e0",
   "metadata": {},
   "source": [
    "### Comparing drug and search rates"
   ]
  },
  {
   "cell_type": "markdown",
   "id": "d9ffe576",
   "metadata": {},
   "source": [
    "As per the finding above, the rate of drug-related stops increased significantly between 2005 and 2015. I might hypothesize that the rate of vehicle searches was also increasing, which would have led to an increase in drug-related stops even if more drivers were not carrying drugs.\n",
    "\n",
    "I can test this hypothesis by calculating the annual search rate, and then plotting it against the annual drug rate. If the hypothesis is true, then I'll see both rates increasing over time."
   ]
  },
  {
   "cell_type": "code",
   "execution_count": 41,
   "id": "bd009c04",
   "metadata": {},
   "outputs": [
    {
     "data": {
      "image/png": "[encoded data removed]",
      "text/plain": [
       "<Figure size 432x288 with 2 Axes>"
      ]
     },
     "metadata": {
      "needs_background": "light"
     },
     "output_type": "display_data"
    }
   ],
   "source": [
    "# Calculate and save the annual search rate\n",
    "annual_search_rate = df.search_conducted.resample('A').mean()\n",
    "\n",
    "# Concatenate 'annual_drug_rate' and 'annual_search_rate'\n",
    "annual = pd.concat([annual_drug_rate, annual_search_rate], axis='columns')\n",
    "\n",
    "# Create subplots from 'annual'\n",
    "annual.plot(subplots = True)\n",
    "\n",
    "# Display the subplots\n",
    "plt.show()"
   ]
  },
  {
   "cell_type": "markdown",
   "id": "eda48453",
   "metadata": {},
   "source": [
    "The rate of drug-related stops increased even though the search rate decreased, disproving our hypothesis."
   ]
  },
  {
   "cell_type": "markdown",
   "id": "f8668ab1",
   "metadata": {},
   "source": [
    "## How long might you be stopped for a violation?"
   ]
  },
  {
   "cell_type": "markdown",
   "id": "98d4066e",
   "metadata": {},
   "source": [
    "### Converting stop durations to numbers"
   ]
  },
  {
   "cell_type": "markdown",
   "id": "77deba82",
   "metadata": {},
   "source": [
    "In the traffic stops dataset, the stop_duration column tells me approximately how long the driver was detained by the officer. Unfortunately, the durations are stored as strings, such as '0-15 Min'. How can I make this data easier to analyze?\n",
    "\n",
    "In this exercise, I'll convert the stop durations to integers. Because the precise durations are not available, I'll have to estimate the numbers using reasonable values:\n",
    "\n",
    "- Convert '0-15 Min' to 8\n",
    "- Convert '16-30 Min' to 23\n",
    "- Convert '30+ Min' to 45"
   ]
  },
  {
   "cell_type": "code",
   "execution_count": 46,
   "id": "f9655d76",
   "metadata": {},
   "outputs": [
    {
     "name": "stdout",
     "output_type": "stream",
     "text": [
      "['0-15 Min' '16-30 Min' '30+ Min' '2' '1']\n"
     ]
    }
   ],
   "source": [
    "# Print the unique values in 'stop_duration'\n",
    "print(df.stop_duration.unique())"
   ]
  },
  {
   "cell_type": "code",
   "execution_count": 49,
   "id": "5ac52849",
   "metadata": {},
   "outputs": [
    {
     "name": "stdout",
     "output_type": "stream",
     "text": [
      "[ 8. 23. 45. nan]\n"
     ]
    }
   ],
   "source": [
    "# Create a dictionary that maps strings to integers\n",
    "mapping = {'0-15 Min': 8, '16-30 Min': 23, '30+ Min': 45}\n",
    "\n",
    "# Convert the 'stop_duration' strings to integers using the 'mapping'\n",
    "df['stop_minutes'] = df.stop_duration.map(mapping)\n",
    "\n",
    "# Convert the 'stop_duration' strings to integers using the 'mapping'\n",
    "df['stop_minutes'] = df.stop_duration.map(mapping)\n",
    "\n",
    "# Print the unique values in 'stop_minutes'\n",
    "print(df.stop_minutes.unique())"
   ]
  },
  {
   "cell_type": "markdown",
   "id": "b4ec2897",
   "metadata": {},
   "source": [
    "### Plotting stop length"
   ]
  },
  {
   "cell_type": "markdown",
   "id": "0cb0395c",
   "metadata": {},
   "source": [
    "If I was stopped for a particular violation, how long might I expect to be detained?\n",
    "\n",
    "I'll visualize the average length of time drivers are stopped for each type of violation. Rather than using the violation column in this exercise, I'll use violation_raw since it contains more detailed descriptions of the violations."
   ]
  },
  {
   "cell_type": "code",
   "execution_count": 50,
   "id": "508484a5",
   "metadata": {},
   "outputs": [
    {
     "name": "stdout",
     "output_type": "stream",
     "text": [
      "violation_raw\n",
      "APB                                 20.987342\n",
      "Call for Service                    22.034669\n",
      "Equipment/Inspection Violation      11.460345\n",
      "Motorist Assist/Courtesy            16.916256\n",
      "Other Traffic Violation             13.900265\n",
      "Registration Violation              13.745629\n",
      "Seatbelt Violation                   9.741531\n",
      "Special Detail/Directed Patrol      15.061100\n",
      "Speeding                            10.577796\n",
      "Suspicious Person                   18.750000\n",
      "Violation of City/Town Ordinance    13.388626\n",
      "Warrant                             21.400000\n",
      "Name: stop_minutes, dtype: float64\n"
     ]
    },
    {
     "data": {
      "image/png": "[encoded data removed]",
      "text/plain": [
       "<Figure size 432x288 with 1 Axes>"
      ]
     },
     "metadata": {
      "needs_background": "light"
     },
     "output_type": "display_data"
    }
   ],
   "source": [
    "# Calculate the mean 'stop_minutes' for each value in 'violation_raw'\n",
    "print(df.groupby('violation_raw').stop_minutes.mean())\n",
    "\n",
    "# Save the resulting Series as 'stop_length'\n",
    "stop_length = df.groupby('violation_raw').stop_minutes.mean()\n",
    "\n",
    "# Sort 'stop_length' by its values and create a horizontal bar plot\n",
    "stop_length.sort_values().plot(kind='barh')\n",
    "\n",
    "# Display the plot\n",
    "plt.show()"
   ]
  },
  {
   "cell_type": "code",
   "execution_count": null,
   "id": "d9762182",
   "metadata": {},
   "outputs": [],
   "source": []
  },
  {
   "cell_type": "markdown",
   "id": "660d6de8",
   "metadata": {},
   "source": [
    "# Analyzing the effect of weather on policing"
   ]
  },
  {
   "cell_type": "code",
   "execution_count": null,
   "id": "6e778196",
   "metadata": {},
   "outputs": [],
   "source": []
  }
 ],
 "metadata": {
  "kernelspec": {
   "display_name": "Python 3 (ipykernel)",
   "language": "python",
   "name": "python3"
  },
  "language_info": {
   "codemirror_mode": {
    "name": "ipython",
    "version": 3
   },
   "file_extension": ".py",
   "mimetype": "text/x-python",
   "name": "python",
   "nbconvert_exporter": "python",
   "pygments_lexer": "ipython3",
   "version": "3.9.12"
  },
  "toc": {
   "base_numbering": 1,
   "nav_menu": {},
   "number_sections": true,
   "sideBar": true,
   "skip_h1_title": false,
   "title_cell": "Table of Contents",
   "title_sidebar": "Contents",
   "toc_cell": true,
   "toc_position": {},
   "toc_section_display": true,
   "toc_window_display": false
  }
 },
 "nbformat": 4,
 "nbformat_minor": 5
}
